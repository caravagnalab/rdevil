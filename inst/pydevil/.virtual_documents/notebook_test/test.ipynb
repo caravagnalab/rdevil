import scanpy as sc
import patsy as ptsy
import torch
import matplotlib.pyplot as plt
import numpy as np
import pandas as pd


import sys
sys.path.append("../")
%reload_ext autoreload
%autoreload 2

import pydevil


counts = pd.read_csv("../../../../../../counts.csv")
meta = pd.read_csv("../../../../../../meta.csv")
group_matrix = pd.read_csv("../../../../../../group_matrix.csv")


gene_names = list(counts.iloc[:,0])
obs_names = list(meta.iloc[:,0])
X = torch.tensor(counts.iloc[:,1:].values).t()


X.shape


n_genes = 10
X = X[:,0:n_genes]


meta


covariates = ptsy.dmatrix("~ X1 + X2 + cc", meta)


def center_m(X_c):
    # Centering the matrix
    cm = X_c - np.mean(X_c, axis=0)

    # Calculating standard deviations
    sds = np.sqrt(np.mean(cm**2, axis=0))

    for i in range(X_c.shape[1]):
        if sds[i] > 0:
            # Scaling columns by standard deviation
            cm[:, i] /= sds[i]
        else:
            if X_c[0, i] != 0:
                # Assigning a constant vector for a special case
                cm[:, i] = np.ones(X_c.shape[0])
            else:
                # Marking the column by setting sds to -1 for a special case
                sds[i] = -1

    return {'pred': cm, 'sds': sds}


import sys
sys.path.append("../")
%reload_ext autoreload
%autoreload 2
import pydevil


torch.tensor(np.array(group_matrix))


res  = pydevil.run_SVDE(
    X, 
    center_m(covariates)['pred'], 
    gene_names = gene_names,
    cell_names = obs_names, 
    size_factors = False,
    group_matrix = torch.tensor(np.array(group_matrix)).double(),
    variance="VI_Estimate",
    jit_compile=True,
    optimizer_name = "ClippedAdam", 
    lr = 0.5, 
    gamma_lr=1e-7, 
    steps = 1000, 
    batch_size=20000,
    full_cov = True, 
    cuda = False,
    gauss_loc=10,
    disp_loc = 3
)


res['params'].keys()


print("subj disp = ", res['params']['subject_dispersion'])
print("cell disp = ", res['params']['theta'])


print(1 / (np.exp(res['params']['subject_dispersion']) - 1))
print(1 / (np.exp(res['params']['subject_dispersion']) - 1) / np.exp(res['params']['subject_dispersion'] / 2))


print("beta 1 = ", res['params']['beta'][0,:])
print("beta 2 = ", res['params']['beta'][1,:])
print("beta 2 = ", res['params']['beta'][2,:])
print("beta diff = ", res['params']['beta'][:,0] - res['params']['beta'][:,1])


gene_idx = 0
beta = res['params']['beta'][:,gene_idx]
v_random = np.log(np.matmul(group_matrix, res['params']['random_effects'][:,gene_idx]))


np.exp(np.matmul(center_m(covariates)['pred'], beta) + v_random)[:10]








# test likelihood
counts = X
eta = torch.tensor(res['params']['eta'])
alpha_ = torch.tensor(res['params']['subject_dispersion'])
lambda_ = torch.tensor(res['params']['subject_dispersion']) * 2
theta = torch.tensor(res['params']['theta'])
group_matrix = torch.tensor(group_matrix)
random_effects = torch.tensor(res['params']['random_effects'])


n_groups = group_matrix.shape[1]
L = torch.zeros(counts.shape[1])    


i = 1


n_groups


L.shape


group_flag = group_matrix[:,i] == 1

yij = counts[group_flag,]
mu_ij = torch.exp(eta[group_flag,]) + torch.log(theta)
        
yij_sum = torch.sum(yij, dim=0)
mu_ij_sum = torch.sum(mu_ij, dim=0)

wi = random_effects[i,]

term1 = alpha_ * torch.log(lambda_)
term2 = torch.lgamma(yij_sum + alpha_) / torch.lgamma(alpha_)
term3 = torch.sum(yij * torch.log(mu_ij), dim=0)
term4 = - (yij_sum + alpha_) * torch.log(mu_ij_sum + lambda_)





n_groups = group_matrix.shape[1]
L = torch.zeros(counts.shape[1])
for i in range(n_groups):
    group_flag = group_matrix[:,i] == 1

    yij = counts[group_flag,]
    mu_ij = torch.exp(eta[group_flag,]) + torch.log(theta)
    
    yij_sum = torch.sum(yij, dim=0)
    mu_ij_sum = torch.sum(mu_ij, dim=0)

    wi = random_effects[i,]

    term1 = alpha_ * torch.log(lambda_)
    term2 = torch.lgamma(yij_sum + alpha_) / torch.lgamma(alpha_)
    term3 = torch.sum(yij * torch.log(mu_ij), dim=0)
    term4 = - (yij_sum + alpha_) * torch.log(mu_ij_sum + lambda_)
    term5 = torch.sum(theta * torch.log(theta) + torch.lgamma(yij_sum + theta) - torch.lgamma(theta) - (yij + theta) * torch.log(theta * wi) + wi * mu_ij, dim=0)

    L += term1 + term2 + term3 + term4 + term5


L


theta * torch.log(theta)


term4.shape


torch.exp(eta[group_flag,])
