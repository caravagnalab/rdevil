import scanpy as sc
import patsy as ptsy
import torch
import matplotlib.pyplot as plt
import numpy as np
import pandas as pd


import sys
sys.path.append("../")
%reload_ext autoreload
%autoreload 2

import pydevil


counts = pd.read_csv("../../../../../../nebula_counts.csv")
meta = pd.read_csv("../../../../../../nebula_meta.csv")


gene_names = list(counts.iloc[:,0])
obs_names = list(meta.iloc[:,0])
X = torch.tensor(counts.iloc[:,0:].values).t()


meta['id'] = meta['id'].astype(str)


covariates = ptsy.dmatrix("~ X1 + X2 + cc", meta)
group_matrix = ptsy.dmatrix("~ id - 1", meta)
UMI = np.array(X.sum(1)).squeeze() / np.mean(np.array(X.sum(1)).squeeze())


covariates.shape, group_matrix.shape, X.shape


res  = pydevil.run_SVDE(
    X, 
    covariates, 
    gene_names = gene_names,
    cell_names = obs_names, 
    group_matrix = group_matrix,
    jit_compile=False,
    optimizer_name = "ClippedAdam", 
    lr = 0.5, 
    gamma_lr=1e-4, 
    steps = 150, 
    full_cov = False, 
    cuda = False,
    batch_size=int(X.shape[0] / 4), theta_bounds=(1e-16, 500)
)


plt.plot(torch.log10(torch.tensor(res['loss'])))


plt.plot(1 / res['params']['theta'])


res['params']['theta']


torch.max(torch.tensor(res['params']['theta']))


torch.log(torch.tensor(.1))


plt.hist(torch.tensor(res['params']['theta']), bins=100)
