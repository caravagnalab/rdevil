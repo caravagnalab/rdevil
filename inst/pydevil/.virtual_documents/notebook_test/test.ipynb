import scanpy as sc
import patsy as ptsy
import torch
import matplotlib.pyplot as plt
import numpy as np
import pandas as pd


import sys
sys.path.append("../")
%reload_ext autoreload
%autoreload 2

import pydevil


counts = pd.read_csv("../../../../../../counts.csv")
meta = pd.read_csv("../../../../../../meta.csv")


gene_names = list(counts.iloc[:,0])
obs_names = list(meta.iloc[:,0])
X = torch.tensor(counts.iloc[:,0:].values).t()


meta['DiseaseSubtype'] = meta['DiseaseSubtype'].astype(str)


covariates = ptsy.dmatrix("~ -0 + DiseaseSubtype + Sex", meta)
group_matrix = ptsy.dmatrix("~ Individual - 1", meta)


res  = pydevil.run_SVDE(
    X, 
    covariates, 
    gene_names = gene_names,
    cell_names = obs_names, 
    # group_matrix = group_matrix,
    jit_compile=False,
    optimizer_name = "ClippedAdam", 
    lr = 0.5, 
    gamma_lr=1e-4, 
    steps = 20, 
    full_cov = True, 
    cuda = False,
    gauss_loc=5
)


pydevil.test_posterior_null(res, [0,1,-1,0])


contrast = np.array([0,1,-1,0])
cov_d = res['params']['variance']





denominator = np.dot(np.dot(contrast.T, cov_d), contrast)


denominator[1]





inference_res = res
contrast = torch.tensor([0,1,-1,0])


mu_test = (torch.tensor(inference_res["params"]["beta"]) * contrast.reshape([-1,1])).sum(axis = 0)


X = contrast
V = torch.tensor(inference_res["params"]["variance"])


N = torch.tensor(V).size(0)  # Get the size of the first dimension

# Reshape X to (4, 1) to make it compatible with matrix multiplication
X_reshaped = contrast.view(4, 1).double()

# Perform the desired operation for each element in the first dimension of V
result = torch.empty(N)

for i in range(N):
    result[i] = torch.mm(torch.mm(X_reshaped.t(), V[i,:,:]), X_reshaped)


result[1]


V = inference_res["params"]["variance"]
N = V.shape[0]
contrast = contrast.reshape([-1,1]).double()


contrast.T.dtype


total_variance = (contrast.T @ V @ contrast).reshape(-1)


total_variance[1], result[1]





p = 1 - torch.distributions.Chi2(1).cdf(mu_test**2 / total_variance)


p.shape


V[1,:,:]


plt.plot(torch.log10(torch.tensor(res['loss'])))


plt.plot(1 / res['params']['theta'])


res['params']['theta']


torch.max(torch.tensor(res['params']['theta']))


torch.log(torch.tensor(.1))


plt.hist(torch.tensor(res['params']['theta']), bins=100)
